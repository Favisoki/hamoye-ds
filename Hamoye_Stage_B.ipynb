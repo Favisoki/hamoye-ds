{
  "nbformat": 4,
  "nbformat_minor": 0,
  "metadata": {
    "colab": {
      "name": "Hamoye_Stage_B",
      "provenance": [],
      "collapsed_sections": [],
      "authorship_tag": "ABX9TyMpDSdIoq9gEoinVBg2IxWB",
      "include_colab_link": true
    },
    "kernelspec": {
      "name": "python3",
      "display_name": "Python 3"
    }
  },
  "cells": [
    {
      "cell_type": "markdown",
      "metadata": {
        "id": "view-in-github",
        "colab_type": "text"
      },
      "source": [
        "<a href=\"https://colab.research.google.com/github/Favisoki/hamoye-ds/blob/master/Hamoye_Stage_B.ipynb\" target=\"_parent\"><img src=\"https://colab.research.google.com/assets/colab-badge.svg\" alt=\"Open In Colab\"/></a>"
      ]
    },
    {
      "cell_type": "markdown",
      "metadata": {
        "id": "v173bwxTrkT5",
        "colab_type": "text"
      },
      "source": [
        "# Linear Regression"
      ]
    },
    {
      "cell_type": "code",
      "metadata": {
        "id": "-hJ1HsDdlVLa",
        "colab_type": "code",
        "colab": {
          "base_uri": "https://localhost:8080/",
          "height": 74
        },
        "outputId": "2b880af9-c8fc-485d-f733-160ef028ab7c"
      },
      "source": [
        "import numpy as np\n",
        "import pandas as pd\n",
        "import seaborn as sns\n",
        "import matplotlib.pyplot as plt"
      ],
      "execution_count": 1,
      "outputs": [
        {
          "output_type": "stream",
          "text": [
            "/usr/local/lib/python3.6/dist-packages/statsmodels/tools/_testing.py:19: FutureWarning: pandas.util.testing is deprecated. Use the functions in the public API at pandas.testing instead.\n",
            "  import pandas.util.testing as tm\n"
          ],
          "name": "stderr"
        }
      ]
    },
    {
      "cell_type": "code",
      "metadata": {
        "id": "LiQDpEOamX-o",
        "colab_type": "code",
        "colab": {}
      },
      "source": [
        "d_frame=pd.read_excel('https://archive.ics.uci.edu/ml/machine-learning-databases/00242/ENB2012_data.xlsx')"
      ],
      "execution_count": 52,
      "outputs": []
    },
    {
      "cell_type": "code",
      "metadata": {
        "id": "kp4sRWkwnU6r",
        "colab_type": "code",
        "colab": {
          "base_uri": "https://localhost:8080/",
          "height": 320
        },
        "outputId": "5575d7e5-7e7a-49ce-a645-830b56377100"
      },
      "source": [
        " \n",
        "#rename columns\n",
        "column_names = {'X1':'Relative_Compactness', 'X2': 'Surface_Area', 'X3':  'Wall_Area', 'X4': 'Roof_Area', 'X5': 'Overall_Height','X6': 'Orientation', 'X7': 'Glazing_Area', 'X8': 'Glazing_Area_Distribution', 'Y1': 'Heating_Load', 'Y2': 'Cooling_Load'}\n",
        " \n",
        "d_frame=d_frame.rename(columns=column_names)\n",
        "#to have an overview of the data, itg is described\n",
        "d_frame.describe()"
      ],
      "execution_count": 53,
      "outputs": [
        {
          "output_type": "execute_result",
          "data": {
            "text/html": [
              "<div>\n",
              "<style scoped>\n",
              "    .dataframe tbody tr th:only-of-type {\n",
              "        vertical-align: middle;\n",
              "    }\n",
              "\n",
              "    .dataframe tbody tr th {\n",
              "        vertical-align: top;\n",
              "    }\n",
              "\n",
              "    .dataframe thead th {\n",
              "        text-align: right;\n",
              "    }\n",
              "</style>\n",
              "<table border=\"1\" class=\"dataframe\">\n",
              "  <thead>\n",
              "    <tr style=\"text-align: right;\">\n",
              "      <th></th>\n",
              "      <th>Relative_Compactness</th>\n",
              "      <th>Surface_Area</th>\n",
              "      <th>Wall_Area</th>\n",
              "      <th>Roof_Area</th>\n",
              "      <th>Overall_Height</th>\n",
              "      <th>Orientation</th>\n",
              "      <th>Glazing_Area</th>\n",
              "      <th>Glazing_Area_Distribution</th>\n",
              "      <th>Heating_Load</th>\n",
              "      <th>Cooling_Load</th>\n",
              "    </tr>\n",
              "  </thead>\n",
              "  <tbody>\n",
              "    <tr>\n",
              "      <th>count</th>\n",
              "      <td>768.000000</td>\n",
              "      <td>768.000000</td>\n",
              "      <td>768.000000</td>\n",
              "      <td>768.000000</td>\n",
              "      <td>768.00000</td>\n",
              "      <td>768.000000</td>\n",
              "      <td>768.000000</td>\n",
              "      <td>768.00000</td>\n",
              "      <td>768.000000</td>\n",
              "      <td>768.000000</td>\n",
              "    </tr>\n",
              "    <tr>\n",
              "      <th>mean</th>\n",
              "      <td>0.764167</td>\n",
              "      <td>671.708333</td>\n",
              "      <td>318.500000</td>\n",
              "      <td>176.604167</td>\n",
              "      <td>5.25000</td>\n",
              "      <td>3.500000</td>\n",
              "      <td>0.234375</td>\n",
              "      <td>2.81250</td>\n",
              "      <td>22.307195</td>\n",
              "      <td>24.587760</td>\n",
              "    </tr>\n",
              "    <tr>\n",
              "      <th>std</th>\n",
              "      <td>0.105777</td>\n",
              "      <td>88.086116</td>\n",
              "      <td>43.626481</td>\n",
              "      <td>45.165950</td>\n",
              "      <td>1.75114</td>\n",
              "      <td>1.118763</td>\n",
              "      <td>0.133221</td>\n",
              "      <td>1.55096</td>\n",
              "      <td>10.090204</td>\n",
              "      <td>9.513306</td>\n",
              "    </tr>\n",
              "    <tr>\n",
              "      <th>min</th>\n",
              "      <td>0.620000</td>\n",
              "      <td>514.500000</td>\n",
              "      <td>245.000000</td>\n",
              "      <td>110.250000</td>\n",
              "      <td>3.50000</td>\n",
              "      <td>2.000000</td>\n",
              "      <td>0.000000</td>\n",
              "      <td>0.00000</td>\n",
              "      <td>6.010000</td>\n",
              "      <td>10.900000</td>\n",
              "    </tr>\n",
              "    <tr>\n",
              "      <th>25%</th>\n",
              "      <td>0.682500</td>\n",
              "      <td>606.375000</td>\n",
              "      <td>294.000000</td>\n",
              "      <td>140.875000</td>\n",
              "      <td>3.50000</td>\n",
              "      <td>2.750000</td>\n",
              "      <td>0.100000</td>\n",
              "      <td>1.75000</td>\n",
              "      <td>12.992500</td>\n",
              "      <td>15.620000</td>\n",
              "    </tr>\n",
              "    <tr>\n",
              "      <th>50%</th>\n",
              "      <td>0.750000</td>\n",
              "      <td>673.750000</td>\n",
              "      <td>318.500000</td>\n",
              "      <td>183.750000</td>\n",
              "      <td>5.25000</td>\n",
              "      <td>3.500000</td>\n",
              "      <td>0.250000</td>\n",
              "      <td>3.00000</td>\n",
              "      <td>18.950000</td>\n",
              "      <td>22.080000</td>\n",
              "    </tr>\n",
              "    <tr>\n",
              "      <th>75%</th>\n",
              "      <td>0.830000</td>\n",
              "      <td>741.125000</td>\n",
              "      <td>343.000000</td>\n",
              "      <td>220.500000</td>\n",
              "      <td>7.00000</td>\n",
              "      <td>4.250000</td>\n",
              "      <td>0.400000</td>\n",
              "      <td>4.00000</td>\n",
              "      <td>31.667500</td>\n",
              "      <td>33.132500</td>\n",
              "    </tr>\n",
              "    <tr>\n",
              "      <th>max</th>\n",
              "      <td>0.980000</td>\n",
              "      <td>808.500000</td>\n",
              "      <td>416.500000</td>\n",
              "      <td>220.500000</td>\n",
              "      <td>7.00000</td>\n",
              "      <td>5.000000</td>\n",
              "      <td>0.400000</td>\n",
              "      <td>5.00000</td>\n",
              "      <td>43.100000</td>\n",
              "      <td>48.030000</td>\n",
              "    </tr>\n",
              "  </tbody>\n",
              "</table>\n",
              "</div>"
            ],
            "text/plain": [
              "       Relative_Compactness  Surface_Area  ...  Heating_Load  Cooling_Load\n",
              "count            768.000000    768.000000  ...    768.000000    768.000000\n",
              "mean               0.764167    671.708333  ...     22.307195     24.587760\n",
              "std                0.105777     88.086116  ...     10.090204      9.513306\n",
              "min                0.620000    514.500000  ...      6.010000     10.900000\n",
              "25%                0.682500    606.375000  ...     12.992500     15.620000\n",
              "50%                0.750000    673.750000  ...     18.950000     22.080000\n",
              "75%                0.830000    741.125000  ...     31.667500     33.132500\n",
              "max                0.980000    808.500000  ...     43.100000     48.030000\n",
              "\n",
              "[8 rows x 10 columns]"
            ]
          },
          "metadata": {
            "tags": []
          },
          "execution_count": 53
        }
      ]
    },
    {
      "cell_type": "code",
      "metadata": {
        "id": "rRuRNX6wZkwa",
        "colab_type": "code",
        "colab": {
          "base_uri": "https://localhost:8080/",
          "height": 415
        },
        "outputId": "4c46a50a-faf6-431f-8f00-7043b33f0e1b"
      },
      "source": [
        "d_frame.head()"
      ],
      "execution_count": 55,
      "outputs": [
        {
          "output_type": "execute_result",
          "data": {
            "text/html": [
              "<div>\n",
              "<style scoped>\n",
              "    .dataframe tbody tr th:only-of-type {\n",
              "        vertical-align: middle;\n",
              "    }\n",
              "\n",
              "    .dataframe tbody tr th {\n",
              "        vertical-align: top;\n",
              "    }\n",
              "\n",
              "    .dataframe thead th {\n",
              "        text-align: right;\n",
              "    }\n",
              "</style>\n",
              "<table border=\"1\" class=\"dataframe\">\n",
              "  <thead>\n",
              "    <tr style=\"text-align: right;\">\n",
              "      <th></th>\n",
              "      <th>Relative_Compactness</th>\n",
              "      <th>Surface_Area</th>\n",
              "      <th>Wall_Area</th>\n",
              "      <th>Roof_Area</th>\n",
              "      <th>Overall_Height</th>\n",
              "      <th>Orientation</th>\n",
              "      <th>Glazing_Area</th>\n",
              "      <th>Glazing_Area_Distribution</th>\n",
              "      <th>Heating_Load</th>\n",
              "      <th>Cooling_Load</th>\n",
              "    </tr>\n",
              "  </thead>\n",
              "  <tbody>\n",
              "    <tr>\n",
              "      <th>0</th>\n",
              "      <td>0.98</td>\n",
              "      <td>514.5</td>\n",
              "      <td>294.0</td>\n",
              "      <td>110.25</td>\n",
              "      <td>7.0</td>\n",
              "      <td>2</td>\n",
              "      <td>0.0</td>\n",
              "      <td>0</td>\n",
              "      <td>15.55</td>\n",
              "      <td>21.33</td>\n",
              "    </tr>\n",
              "    <tr>\n",
              "      <th>1</th>\n",
              "      <td>0.98</td>\n",
              "      <td>514.5</td>\n",
              "      <td>294.0</td>\n",
              "      <td>110.25</td>\n",
              "      <td>7.0</td>\n",
              "      <td>3</td>\n",
              "      <td>0.0</td>\n",
              "      <td>0</td>\n",
              "      <td>15.55</td>\n",
              "      <td>21.33</td>\n",
              "    </tr>\n",
              "    <tr>\n",
              "      <th>2</th>\n",
              "      <td>0.98</td>\n",
              "      <td>514.5</td>\n",
              "      <td>294.0</td>\n",
              "      <td>110.25</td>\n",
              "      <td>7.0</td>\n",
              "      <td>4</td>\n",
              "      <td>0.0</td>\n",
              "      <td>0</td>\n",
              "      <td>15.55</td>\n",
              "      <td>21.33</td>\n",
              "    </tr>\n",
              "    <tr>\n",
              "      <th>3</th>\n",
              "      <td>0.98</td>\n",
              "      <td>514.5</td>\n",
              "      <td>294.0</td>\n",
              "      <td>110.25</td>\n",
              "      <td>7.0</td>\n",
              "      <td>5</td>\n",
              "      <td>0.0</td>\n",
              "      <td>0</td>\n",
              "      <td>15.55</td>\n",
              "      <td>21.33</td>\n",
              "    </tr>\n",
              "    <tr>\n",
              "      <th>4</th>\n",
              "      <td>0.90</td>\n",
              "      <td>563.5</td>\n",
              "      <td>318.5</td>\n",
              "      <td>122.50</td>\n",
              "      <td>7.0</td>\n",
              "      <td>2</td>\n",
              "      <td>0.0</td>\n",
              "      <td>0</td>\n",
              "      <td>20.84</td>\n",
              "      <td>28.28</td>\n",
              "    </tr>\n",
              "  </tbody>\n",
              "</table>\n",
              "</div>"
            ],
            "text/plain": [
              "   Relative_Compactness  Surface_Area  ...  Heating_Load  Cooling_Load\n",
              "0                  0.98         514.5  ...         15.55         21.33\n",
              "1                  0.98         514.5  ...         15.55         21.33\n",
              "2                  0.98         514.5  ...         15.55         21.33\n",
              "3                  0.98         514.5  ...         15.55         21.33\n",
              "4                  0.90         563.5  ...         20.84         28.28\n",
              "\n",
              "[5 rows x 10 columns]"
            ]
          },
          "metadata": {
            "tags": []
          },
          "execution_count": 54
        },
        {
          "output_type": "execute_result",
          "data": {
            "text/html": [
              "<div>\n",
              "<style scoped>\n",
              "    .dataframe tbody tr th:only-of-type {\n",
              "        vertical-align: middle;\n",
              "    }\n",
              "\n",
              "    .dataframe tbody tr th {\n",
              "        vertical-align: top;\n",
              "    }\n",
              "\n",
              "    .dataframe thead th {\n",
              "        text-align: right;\n",
              "    }\n",
              "</style>\n",
              "<table border=\"1\" class=\"dataframe\">\n",
              "  <thead>\n",
              "    <tr style=\"text-align: right;\">\n",
              "      <th></th>\n",
              "      <th>Relative_Compactness</th>\n",
              "      <th>Surface_Area</th>\n",
              "      <th>Wall_Area</th>\n",
              "      <th>Roof_Area</th>\n",
              "      <th>Overall_Height</th>\n",
              "      <th>Orientation</th>\n",
              "      <th>Glazing_Area</th>\n",
              "      <th>Glazing_Area_Distribution</th>\n",
              "      <th>Heating_Load</th>\n",
              "      <th>Cooling_Load</th>\n",
              "    </tr>\n",
              "  </thead>\n",
              "  <tbody>\n",
              "    <tr>\n",
              "      <th>0</th>\n",
              "      <td>0.98</td>\n",
              "      <td>514.5</td>\n",
              "      <td>294.0</td>\n",
              "      <td>110.25</td>\n",
              "      <td>7.0</td>\n",
              "      <td>2</td>\n",
              "      <td>0.0</td>\n",
              "      <td>0</td>\n",
              "      <td>15.55</td>\n",
              "      <td>21.33</td>\n",
              "    </tr>\n",
              "    <tr>\n",
              "      <th>1</th>\n",
              "      <td>0.98</td>\n",
              "      <td>514.5</td>\n",
              "      <td>294.0</td>\n",
              "      <td>110.25</td>\n",
              "      <td>7.0</td>\n",
              "      <td>3</td>\n",
              "      <td>0.0</td>\n",
              "      <td>0</td>\n",
              "      <td>15.55</td>\n",
              "      <td>21.33</td>\n",
              "    </tr>\n",
              "    <tr>\n",
              "      <th>2</th>\n",
              "      <td>0.98</td>\n",
              "      <td>514.5</td>\n",
              "      <td>294.0</td>\n",
              "      <td>110.25</td>\n",
              "      <td>7.0</td>\n",
              "      <td>4</td>\n",
              "      <td>0.0</td>\n",
              "      <td>0</td>\n",
              "      <td>15.55</td>\n",
              "      <td>21.33</td>\n",
              "    </tr>\n",
              "    <tr>\n",
              "      <th>3</th>\n",
              "      <td>0.98</td>\n",
              "      <td>514.5</td>\n",
              "      <td>294.0</td>\n",
              "      <td>110.25</td>\n",
              "      <td>7.0</td>\n",
              "      <td>5</td>\n",
              "      <td>0.0</td>\n",
              "      <td>0</td>\n",
              "      <td>15.55</td>\n",
              "      <td>21.33</td>\n",
              "    </tr>\n",
              "    <tr>\n",
              "      <th>4</th>\n",
              "      <td>0.90</td>\n",
              "      <td>563.5</td>\n",
              "      <td>318.5</td>\n",
              "      <td>122.50</td>\n",
              "      <td>7.0</td>\n",
              "      <td>2</td>\n",
              "      <td>0.0</td>\n",
              "      <td>0</td>\n",
              "      <td>20.84</td>\n",
              "      <td>28.28</td>\n",
              "    </tr>\n",
              "  </tbody>\n",
              "</table>\n",
              "</div>"
            ],
            "text/plain": [
              "   Relative_Compactness  Surface_Area  ...  Heating_Load  Cooling_Load\n",
              "0                  0.98         514.5  ...         15.55         21.33\n",
              "1                  0.98         514.5  ...         15.55         21.33\n",
              "2                  0.98         514.5  ...         15.55         21.33\n",
              "3                  0.98         514.5  ...         15.55         21.33\n",
              "4                  0.90         563.5  ...         20.84         28.28\n",
              "\n",
              "[5 rows x 10 columns]"
            ]
          },
          "metadata": {
            "tags": []
          },
          "execution_count": 55
        }
      ]
    },
    {
      "cell_type": "code",
      "metadata": {
        "id": "c1_DH_OcoiRA",
        "colab_type": "code",
        "colab": {}
      },
      "source": [
        "#select a sample of the dataset\n",
        "linear_reg_df = d_frame[['Relative_Compactness','Cooling_Load']].sample(15, random_state=2)"
      ],
      "execution_count": 5,
      "outputs": []
    },
    {
      "cell_type": "code",
      "metadata": {
        "id": "tCd8LrmfpfO4",
        "colab_type": "code",
        "colab": {
          "base_uri": "https://localhost:8080/",
          "height": 298
        },
        "outputId": "21e82084-c0a4-4f62-8b89-905ce6cc9f13"
      },
      "source": [
        "#regression plot\n",
        "sns.regplot(x=\"Relative_Compactness\", y=\"Cooling_Load\", data=linear_reg_df)"
      ],
      "execution_count": 6,
      "outputs": [
        {
          "output_type": "execute_result",
          "data": {
            "text/plain": [
              "<matplotlib.axes._subplots.AxesSubplot at 0x7fef091c9080>"
            ]
          },
          "metadata": {
            "tags": []
          },
          "execution_count": 6
        },
        {
          "output_type": "display_data",
          "data": {
            "image/png": "[encoded data removed]",
            "text/plain": [
              "<Figure size 432x288 with 1 Axes>"
            ]
          },
          "metadata": {
            "tags": [],
            "needs_background": "light"
          }
        }
      ]
    },
    {
      "cell_type": "markdown",
      "metadata": {
        "id": "JQjUwhXLwBUt",
        "colab_type": "text"
      },
      "source": [
        " MODEL TESTING"
      ]
    },
    {
      "cell_type": "code",
      "metadata": {
        "id": "ofVweo_fwKDw",
        "colab_type": "code",
        "colab": {}
      },
      "source": [
        "#Firstly the dataset is normalised to a common scale using the min max scaler\n",
        "from sklearn.preprocessing import MinMaxScaler\n",
        " \n",
        "scaler = MinMaxScaler()\n",
        " \n",
        "normalised_df = pd.DataFrame(scaler.fit_transform(d_frame), columns=d_frame.columns)\n",
        "features_df = normalised_df.drop(columns=['Heating_Load', 'Cooling_Load'])\n",
        "heating_target = normalised_df['Heating_Load']"
      ],
      "execution_count": 35,
      "outputs": []
    },
    {
      "cell_type": "code",
      "metadata": {
        "id": "fFMzq_97xDTP",
        "colab_type": "code",
        "colab": {}
      },
      "source": [
        "#the dataset is then split into training and testing dataset\n",
        "from sklearn.model_selection import train_test_split\n",
        " \n",
        "x_train, x_test, y_train, y_test = train_test_split(features_df, heating_target, test_size=0.3, random_state=1)\n",
        " \n",
        "from sklearn.linear_model import LinearRegression\n",
        " \n",
        "linear_model = LinearRegression()\n",
        "#fit the model to the training dataset\n",
        "linear_model.fit(x_train, y_train)\n",
        "#obtain predictions\n",
        "predicted_values = linear_model.predict(x_test)"
      ],
      "execution_count": 36,
      "outputs": []
    },
    {
      "cell_type": "code",
      "metadata": {
        "id": "ayMBICLqzh9W",
        "colab_type": "code",
        "colab": {
          "base_uri": "https://localhost:8080/",
          "height": 35
        },
        "outputId": "49c1465c-a05e-414a-f755-7709e41ada3e"
      },
      "source": [
        "#MAE\n",
        "from sklearn.metrics import mean_absolute_error\n",
        "mae = mean_absolute_error(y_test, predicted_values)\n",
        "round(mae, 3)"
      ],
      "execution_count": 39,
      "outputs": [
        {
          "output_type": "execute_result",
          "data": {
            "text/plain": [
              "0.063"
            ]
          },
          "metadata": {
            "tags": []
          },
          "execution_count": 39
        }
      ]
    },
    {
      "cell_type": "code",
      "metadata": {
        "id": "wpxfcKRj5-ME",
        "colab_type": "code",
        "colab": {}
      },
      "source": [
        " \n",
        "from sklearn.metrics import r2_score\n",
        "r2_score = r2_score(y_test, predicted_values)"
      ],
      "execution_count": 40,
      "outputs": []
    },
    {
      "cell_type": "code",
      "metadata": {
        "id": "JbqibzxB6jMp",
        "colab_type": "code",
        "colab": {
          "base_uri": "https://localhost:8080/",
          "height": 35
        },
        "outputId": "e86213bb-469f-4ec9-a134-a311c9d2676a"
      },
      "source": [
        "round(r2_score, 3)"
      ],
      "execution_count": 43,
      "outputs": [
        {
          "output_type": "execute_result",
          "data": {
            "text/plain": [
              "0.893"
            ]
          },
          "metadata": {
            "tags": []
          },
          "execution_count": 43
        }
      ]
    },
    {
      "cell_type": "code",
      "metadata": {
        "id": "fjcK30fv7clP",
        "colab_type": "code",
        "colab": {
          "base_uri": "https://localhost:8080/",
          "height": 35
        },
        "outputId": "f20ded4b-af4b-4608-e6b8-689ae7e0616c"
      },
      "source": [
        "rss = np.sum(np.square(y_test - predicted_values))\n",
        "round(rss, 3)"
      ],
      "execution_count": 44,
      "outputs": [
        {
          "output_type": "execute_result",
          "data": {
            "text/plain": [
              "1.823"
            ]
          },
          "metadata": {
            "tags": []
          },
          "execution_count": 44
        }
      ]
    },
    {
      "cell_type": "code",
      "metadata": {
        "id": "r-xkpxms80Q5",
        "colab_type": "code",
        "colab": {}
      },
      "source": [
        "from sklearn.metrics import mean_squared_error\n",
        "rmse = np.sqrt(mean_squared_error(y_test, predicted_values))"
      ],
      "execution_count": 48,
      "outputs": []
    },
    {
      "cell_type": "code",
      "metadata": {
        "id": "TBoFbqPt9pdj",
        "colab_type": "code",
        "colab": {
          "base_uri": "https://localhost:8080/",
          "height": 35
        },
        "outputId": "269f5c63-a997-4920-f2ca-1cb505140da6"
      },
      "source": [
        "round(rmse, 3)"
      ],
      "execution_count": 50,
      "outputs": [
        {
          "output_type": "execute_result",
          "data": {
            "text/plain": [
              "0.089"
            ]
          },
          "metadata": {
            "tags": []
          },
          "execution_count": 50
        }
      ]
    },
    {
      "cell_type": "markdown",
      "metadata": {
        "id": "dxqCZrRh_M96",
        "colab_type": "text"
      },
      "source": [
        "# Plotting"
      ]
    },
    {
      "cell_type": "code",
      "metadata": {
        "id": "S1YN58CF-3Ox",
        "colab_type": "code",
        "colab": {
          "base_uri": "https://localhost:8080/",
          "height": 581
        },
        "outputId": "11f0d89d-f1a0-4591-b889-6c3d26b40ef2"
      },
      "source": [
        " graph = y_test - predicted_values\n",
        "plt.figure(figsize=(16, 9))\n",
        "sns.distplot(graph, bins=9, label=\"residual\")\n",
        "plt.legend()"
      ],
      "execution_count": 17,
      "outputs": [
        {
          "output_type": "execute_result",
          "data": {
            "text/plain": [
              "<matplotlib.legend.Legend at 0x7fef04ac7cc0>"
            ]
          },
          "metadata": {
            "tags": []
          },
          "execution_count": 17
        },
        {
          "output_type": "display_data",
          "data": {
            "image/png": "[encoded data removed]",
            "text/plain": [
              "<Figure size 1152x648 with 1 Axes>"
            ]
          },
          "metadata": {
            "tags": [],
            "needs_background": "light"
          }
        }
      ]
    },
    {
      "cell_type": "code",
      "metadata": {
        "id": "aem9F6a_5feP",
        "colab_type": "code",
        "colab": {
          "base_uri": "https://localhost:8080/",
          "height": 54
        },
        "outputId": "e3250108-267b-4607-bedd-0da2fdfadfe1"
      },
      "source": [
        "#ridge regression\n",
        "from sklearn.linear_model import Ridge\n",
        "ridge_reg = Ridge(alpha=0.5)\n",
        "ridge_reg.fit(x_train, y_train)"
      ],
      "execution_count": 30,
      "outputs": [
        {
          "output_type": "execute_result",
          "data": {
            "text/plain": [
              "Ridge(alpha=0.5, copy_X=True, fit_intercept=True, max_iter=None,\n",
              "      normalize=False, random_state=None, solver='auto', tol=0.001)"
            ]
          },
          "metadata": {
            "tags": []
          },
          "execution_count": 30
        }
      ]
    },
    {
      "cell_type": "code",
      "metadata": {
        "id": "EXr1hwD0jIux",
        "colab_type": "code",
        "colab": {}
      },
      "source": [
        "#lasso regression\n",
        "from sklearn.linear_model import Lasso\n",
        "lasso_reg = Lasso(alpha=0.001)"
      ],
      "execution_count": 18,
      "outputs": []
    },
    {
      "cell_type": "code",
      "metadata": {
        "id": "1t6XnuXLjz1U",
        "colab_type": "code",
        "colab": {}
      },
      "source": [
        "#comparing the effects of regularisation\n",
        "# this function returns the weight of every df\n",
        "def get_weights_df(model, feat, col_name):\n",
        "  weights = pd.Series(model.coef_, feat.columns).sort_values()\n",
        "  weights_df = pd.DataFrame(weights).reset_index()\n",
        "  weights_df.columns = ['Features', col_name]\n",
        "  weights_df[col_name].round(3)\n",
        "  return weights_df\n"
      ],
      "execution_count": 32,
      "outputs": []
    },
    {
      "cell_type": "code",
      "metadata": {
        "id": "HtWsVLfc2GZ0",
        "colab_type": "code",
        "colab": {
          "base_uri": "https://localhost:8080/",
          "height": 374
        },
        "outputId": "e9b371f1-361f-4faf-8fa2-f264516aedc0"
      },
      "source": [
        "linear_model_weights = get_weights_df(linear_model, x_train, 'Linear_Model_Weight')\n",
        "ridge_weights = get_weights_df(ridge_reg, x_train, 'Ridge_Weight')\n",
        "lasso_weights = get_weights_df(lasso_reg, x_train, 'Lasso_Weight')\n",
        "\n",
        "final_weights = pd.merge(linear_model_weights, ridge_weights, on='Features')\n",
        "final_weights = pd.merge(final_weights, lasso_weights, on='Features')"
      ],
      "execution_count": 34,
      "outputs": [
        {
          "output_type": "error",
          "ename": "AttributeError",
          "evalue": "ignored",
          "traceback": [
            "\u001b[0;31m---------------------------------------------------------------------------\u001b[0m",
            "\u001b[0;31mAttributeError\u001b[0m                            Traceback (most recent call last)",
            "\u001b[0;32m<ipython-input-34-45286daf19c3>\u001b[0m in \u001b[0;36m<module>\u001b[0;34m()\u001b[0m\n\u001b[1;32m      1\u001b[0m \u001b[0mlinear_model_weights\u001b[0m \u001b[0;34m=\u001b[0m \u001b[0mget_weights_df\u001b[0m\u001b[0;34m(\u001b[0m\u001b[0mlinear_model\u001b[0m\u001b[0;34m,\u001b[0m \u001b[0mx_train\u001b[0m\u001b[0;34m,\u001b[0m \u001b[0;34m'Linear_Model_Weight'\u001b[0m\u001b[0;34m)\u001b[0m\u001b[0;34m\u001b[0m\u001b[0;34m\u001b[0m\u001b[0m\n\u001b[1;32m      2\u001b[0m \u001b[0mridge_weights\u001b[0m \u001b[0;34m=\u001b[0m \u001b[0mget_weights_df\u001b[0m\u001b[0;34m(\u001b[0m\u001b[0mridge_reg\u001b[0m\u001b[0;34m,\u001b[0m \u001b[0mx_train\u001b[0m\u001b[0;34m,\u001b[0m \u001b[0;34m'Ridge_Weight'\u001b[0m\u001b[0;34m)\u001b[0m\u001b[0;34m\u001b[0m\u001b[0;34m\u001b[0m\u001b[0m\n\u001b[0;32m----> 3\u001b[0;31m \u001b[0mlasso_weights\u001b[0m \u001b[0;34m=\u001b[0m \u001b[0mget_weights_df\u001b[0m\u001b[0;34m(\u001b[0m\u001b[0mlasso_reg\u001b[0m\u001b[0;34m,\u001b[0m \u001b[0mx_train\u001b[0m\u001b[0;34m,\u001b[0m \u001b[0;34m'Lasso_Weight'\u001b[0m\u001b[0;34m)\u001b[0m\u001b[0;34m\u001b[0m\u001b[0;34m\u001b[0m\u001b[0m\n\u001b[0m\u001b[1;32m      4\u001b[0m \u001b[0;34m\u001b[0m\u001b[0m\n\u001b[1;32m      5\u001b[0m \u001b[0mfinal_weights\u001b[0m \u001b[0;34m=\u001b[0m \u001b[0mpd\u001b[0m\u001b[0;34m.\u001b[0m\u001b[0mmerge\u001b[0m\u001b[0;34m(\u001b[0m\u001b[0mlinear_model_weights\u001b[0m\u001b[0;34m,\u001b[0m \u001b[0mridge_weights\u001b[0m\u001b[0;34m,\u001b[0m \u001b[0mon\u001b[0m\u001b[0;34m=\u001b[0m\u001b[0;34m'Features'\u001b[0m\u001b[0;34m)\u001b[0m\u001b[0;34m\u001b[0m\u001b[0;34m\u001b[0m\u001b[0m\n",
            "\u001b[0;32m<ipython-input-32-23dd037efd21>\u001b[0m in \u001b[0;36mget_weights_df\u001b[0;34m(model, feat, col_name)\u001b[0m\n\u001b[1;32m      2\u001b[0m \u001b[0;31m# this function returns the weight of every df\u001b[0m\u001b[0;34m\u001b[0m\u001b[0;34m\u001b[0m\u001b[0;34m\u001b[0m\u001b[0m\n\u001b[1;32m      3\u001b[0m \u001b[0;32mdef\u001b[0m \u001b[0mget_weights_df\u001b[0m\u001b[0;34m(\u001b[0m\u001b[0mmodel\u001b[0m\u001b[0;34m,\u001b[0m \u001b[0mfeat\u001b[0m\u001b[0;34m,\u001b[0m \u001b[0mcol_name\u001b[0m\u001b[0;34m)\u001b[0m\u001b[0;34m:\u001b[0m\u001b[0;34m\u001b[0m\u001b[0;34m\u001b[0m\u001b[0m\n\u001b[0;32m----> 4\u001b[0;31m   \u001b[0mweights\u001b[0m \u001b[0;34m=\u001b[0m \u001b[0mpd\u001b[0m\u001b[0;34m.\u001b[0m\u001b[0mSeries\u001b[0m\u001b[0;34m(\u001b[0m\u001b[0mmodel\u001b[0m\u001b[0;34m.\u001b[0m\u001b[0mcoef_\u001b[0m\u001b[0;34m,\u001b[0m \u001b[0mfeat\u001b[0m\u001b[0;34m.\u001b[0m\u001b[0mcolumns\u001b[0m\u001b[0;34m)\u001b[0m\u001b[0;34m.\u001b[0m\u001b[0msort_values\u001b[0m\u001b[0;34m(\u001b[0m\u001b[0;34m)\u001b[0m\u001b[0;34m\u001b[0m\u001b[0;34m\u001b[0m\u001b[0m\n\u001b[0m\u001b[1;32m      5\u001b[0m   \u001b[0mweights_df\u001b[0m \u001b[0;34m=\u001b[0m \u001b[0mpd\u001b[0m\u001b[0;34m.\u001b[0m\u001b[0mDataFrame\u001b[0m\u001b[0;34m(\u001b[0m\u001b[0mweights\u001b[0m\u001b[0;34m)\u001b[0m\u001b[0;34m.\u001b[0m\u001b[0mreset_index\u001b[0m\u001b[0;34m(\u001b[0m\u001b[0;34m)\u001b[0m\u001b[0;34m\u001b[0m\u001b[0;34m\u001b[0m\u001b[0m\n\u001b[1;32m      6\u001b[0m   \u001b[0mweights_df\u001b[0m\u001b[0;34m.\u001b[0m\u001b[0mcolumns\u001b[0m \u001b[0;34m=\u001b[0m \u001b[0;34m[\u001b[0m\u001b[0;34m'Features'\u001b[0m\u001b[0;34m,\u001b[0m \u001b[0mcol_name\u001b[0m\u001b[0;34m]\u001b[0m\u001b[0;34m\u001b[0m\u001b[0;34m\u001b[0m\u001b[0m\n",
            "\u001b[0;31mAttributeError\u001b[0m: 'Lasso' object has no attribute 'coef_'"
          ]
        }
      ]
    },
    {
      "cell_type": "code",
      "metadata": {
        "id": "8Xg_Bn412Py6",
        "colab_type": "code",
        "colab": {}
      },
      "source": [
        ""
      ],
      "execution_count": null,
      "outputs": []
    }
  ]
}